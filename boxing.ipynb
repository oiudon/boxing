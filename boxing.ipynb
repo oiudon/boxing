{
 "cells": [
  {
   "cell_type": "markdown",
   "id": "2cfca453",
   "metadata": {},
   "source": [
    "<h1>前処理</h1>"
   ]
  },
  {
   "cell_type": "code",
   "execution_count": 1,
   "id": "fa337358",
   "metadata": {},
   "outputs": [
    {
     "data": {
      "text/html": [
       "<div>\n",
       "<style scoped>\n",
       "    .dataframe tbody tr th:only-of-type {\n",
       "        vertical-align: middle;\n",
       "    }\n",
       "\n",
       "    .dataframe tbody tr th {\n",
       "        vertical-align: top;\n",
       "    }\n",
       "\n",
       "    .dataframe thead th {\n",
       "        text-align: right;\n",
       "    }\n",
       "</style>\n",
       "<table border=\"1\" class=\"dataframe\">\n",
       "  <thead>\n",
       "    <tr style=\"text-align: right;\">\n",
       "      <th></th>\n",
       "      <th>名前</th>\n",
       "      <th>年齢</th>\n",
       "      <th>身長</th>\n",
       "      <th>リーチ</th>\n",
       "      <th>スタイル</th>\n",
       "      <th>階級</th>\n",
       "    </tr>\n",
       "  </thead>\n",
       "  <tbody>\n",
       "    <tr>\n",
       "      <th>176</th>\n",
       "      <td>ジョセフ・パーカー</td>\n",
       "      <td>31</td>\n",
       "      <td>193</td>\n",
       "      <td>193</td>\n",
       "      <td>オーソドックス</td>\n",
       "      <td>ヘビー級</td>\n",
       "    </tr>\n",
       "    <tr>\n",
       "      <th>177</th>\n",
       "      <td>フィリプ・フルゴビッチ</td>\n",
       "      <td>30</td>\n",
       "      <td>198</td>\n",
       "      <td>208</td>\n",
       "      <td>オーソドックス</td>\n",
       "      <td>ヘビー級</td>\n",
       "    </tr>\n",
       "    <tr>\n",
       "      <th>178</th>\n",
       "      <td>フランク・サンチェス</td>\n",
       "      <td>30</td>\n",
       "      <td>193</td>\n",
       "      <td>198</td>\n",
       "      <td>オーソドックス</td>\n",
       "      <td>ヘビー級</td>\n",
       "    </tr>\n",
       "  </tbody>\n",
       "</table>\n",
       "</div>"
      ],
      "text/plain": [
       "              名前  年齢   身長  リーチ     スタイル    階級\n",
       "176    ジョセフ・パーカー  31  193  193  オーソドックス  ヘビー級\n",
       "177  フィリプ・フルゴビッチ  30  198  208  オーソドックス  ヘビー級\n",
       "178   フランク・サンチェス  30  193  198  オーソドックス  ヘビー級"
      ]
     },
     "execution_count": 1,
     "metadata": {},
     "output_type": "execute_result"
    }
   ],
   "source": [
    "import pandas as pd\n",
    "\n",
    "# boxing_dataファイルを読み込んで、データフレームに変換\n",
    "df = pd.read_csv('boxing_data.csv', encoding=\"shift-jis\")\n",
    "df.tail(3)"
   ]
  },
  {
   "cell_type": "code",
   "execution_count": 2,
   "id": "59bd9884",
   "metadata": {},
   "outputs": [
    {
     "data": {
      "text/plain": [
       "array(['ミニマム級', 'ライトフライ級', 'フライ級', 'スーパーフライ級', 'バンタム級', 'スーパーバンタム級',\n",
       "       'フェザー級', 'スーパーフェザー級', 'ライト級', 'スーパーライト級', 'ウェルター級', 'スーパーウェルター級',\n",
       "       'ミドル級', 'スーパーミドル級', 'ライトヘビー級', 'クルーザー級', 'ヘビー級'], dtype=object)"
      ]
     },
     "execution_count": 2,
     "metadata": {},
     "output_type": "execute_result"
    }
   ],
   "source": [
    "# uniqueメソッドで正解データを確認\n",
    "df['階級'].unique()"
   ]
  },
  {
   "cell_type": "code",
   "execution_count": 3,
   "id": "8562d8a6",
   "metadata": {},
   "outputs": [
    {
     "data": {
      "text/plain": [
       "ライト級          11\n",
       "ライトフライ級       11\n",
       "クルーザー級        11\n",
       "スーパーミドル級      11\n",
       "スーパーウェルター級    11\n",
       "スーパーライト級      11\n",
       "ヘビー級          11\n",
       "バンタム級         11\n",
       "スーパーフライ級      11\n",
       "スーパーフェザー級     10\n",
       "フェザー級         10\n",
       "スーパーバンタム級     10\n",
       "ウェルター級        10\n",
       "ミドル級          10\n",
       "ライトヘビー級       10\n",
       "フライ級          10\n",
       "ミニマム級         10\n",
       "Name: 階級, dtype: int64"
      ]
     },
     "execution_count": 3,
     "metadata": {},
     "output_type": "execute_result"
    }
   ],
   "source": [
    "# value_counts()メソッドでデータの出現回数をカウント\n",
    "df['階級'].value_counts()"
   ]
  },
  {
   "cell_type": "code",
   "execution_count": 4,
   "id": "d9399cb1",
   "metadata": {},
   "outputs": [
    {
     "data": {
      "text/plain": [
       "名前      False\n",
       "年齢      False\n",
       "身長      False\n",
       "リーチ     False\n",
       "スタイル    False\n",
       "階級      False\n",
       "dtype: bool"
      ]
     },
     "execution_count": 4,
     "metadata": {},
     "output_type": "execute_result"
    }
   ],
   "source": [
    "# 列単位で欠損値が存在するか調べる\n",
    "df.isnull().any(axis = 0)"
   ]
  },
  {
   "cell_type": "code",
   "execution_count": 5,
   "id": "31ce8655",
   "metadata": {},
   "outputs": [
    {
     "data": {
      "text/plain": [
       "名前      0\n",
       "年齢      0\n",
       "身長      0\n",
       "リーチ     0\n",
       "スタイル    0\n",
       "階級      0\n",
       "dtype: int64"
      ]
     },
     "execution_count": 5,
     "metadata": {},
     "output_type": "execute_result"
    }
   ],
   "source": [
    "# 列ごとの欠損値の個数を集計\n",
    "df.isnull().sum()"
   ]
  },
  {
   "cell_type": "code",
   "execution_count": 6,
   "id": "a152d313",
   "metadata": {},
   "outputs": [
    {
     "data": {
      "text/plain": [
       "<AxesSubplot:xlabel='身長', ylabel='リーチ'>"
      ]
     },
     "execution_count": 6,
     "metadata": {},
     "output_type": "execute_result"
    },
    {
     "name": "stderr",
     "output_type": "stream",
     "text": [
      "C:\\Users\\user\\anaconda3\\lib\\site-packages\\IPython\\core\\events.py:89: UserWarning: Glyph 36523 (\\N{CJK UNIFIED IDEOGRAPH-8EAB}) missing from current font.\n",
      "  func(*args, **kwargs)\n",
      "C:\\Users\\user\\anaconda3\\lib\\site-packages\\IPython\\core\\events.py:89: UserWarning: Glyph 38263 (\\N{CJK UNIFIED IDEOGRAPH-9577}) missing from current font.\n",
      "  func(*args, **kwargs)\n",
      "C:\\Users\\user\\anaconda3\\lib\\site-packages\\IPython\\core\\events.py:89: UserWarning: Glyph 12522 (\\N{KATAKANA LETTER RI}) missing from current font.\n",
      "  func(*args, **kwargs)\n",
      "C:\\Users\\user\\anaconda3\\lib\\site-packages\\IPython\\core\\events.py:89: UserWarning: Glyph 12540 (\\N{KATAKANA-HIRAGANA PROLONGED SOUND MARK}) missing from current font.\n",
      "  func(*args, **kwargs)\n",
      "C:\\Users\\user\\anaconda3\\lib\\site-packages\\IPython\\core\\events.py:89: UserWarning: Glyph 12481 (\\N{KATAKANA LETTER TI}) missing from current font.\n",
      "  func(*args, **kwargs)\n",
      "C:\\Users\\user\\anaconda3\\lib\\site-packages\\IPython\\core\\pylabtools.py:151: UserWarning: Glyph 36523 (\\N{CJK UNIFIED IDEOGRAPH-8EAB}) missing from current font.\n",
      "  fig.canvas.print_figure(bytes_io, **kw)\n",
      "C:\\Users\\user\\anaconda3\\lib\\site-packages\\IPython\\core\\pylabtools.py:151: UserWarning: Glyph 38263 (\\N{CJK UNIFIED IDEOGRAPH-9577}) missing from current font.\n",
      "  fig.canvas.print_figure(bytes_io, **kw)\n",
      "C:\\Users\\user\\anaconda3\\lib\\site-packages\\IPython\\core\\pylabtools.py:151: UserWarning: Glyph 12522 (\\N{KATAKANA LETTER RI}) missing from current font.\n",
      "  fig.canvas.print_figure(bytes_io, **kw)\n",
      "C:\\Users\\user\\anaconda3\\lib\\site-packages\\IPython\\core\\pylabtools.py:151: UserWarning: Glyph 12540 (\\N{KATAKANA-HIRAGANA PROLONGED SOUND MARK}) missing from current font.\n",
      "  fig.canvas.print_figure(bytes_io, **kw)\n",
      "C:\\Users\\user\\anaconda3\\lib\\site-packages\\IPython\\core\\pylabtools.py:151: UserWarning: Glyph 12481 (\\N{KATAKANA LETTER TI}) missing from current font.\n",
      "  fig.canvas.print_figure(bytes_io, **kw)\n"
     ]
    },
    {
     "data": {
      "image/png": "[encoded data removed]",
      "text/plain": [
       "<Figure size 432x288 with 1 Axes>"
      ]
     },
     "metadata": {
      "needs_background": "light"
     },
     "output_type": "display_data"
    }
   ],
   "source": [
    "%matplotlib inline\n",
    "\n",
    "# 身長とリーチの散布図の作成\n",
    "df.plot(kind = 'scatter', x = '身長', y = 'リーチ')"
   ]
  },
  {
   "cell_type": "code",
   "execution_count": 7,
   "id": "3fb72093",
   "metadata": {},
   "outputs": [],
   "source": [
    "# 特徴量と正解データを変数に代入\n",
    "xcol = ['年齢', '身長', 'リーチ']\n",
    "\n",
    "x = df[xcol]\n",
    "t = df['階級']"
   ]
  },
  {
   "cell_type": "markdown",
   "id": "c8319b8f",
   "metadata": {},
   "source": [
    "<h1>学習</h1>"
   ]
  },
  {
   "cell_type": "code",
   "execution_count": 8,
   "id": "03019127",
   "metadata": {},
   "outputs": [
    {
     "name": "stdout",
     "output_type": "stream",
     "text": [
      "['ライト級']\n"
     ]
    },
    {
     "name": "stderr",
     "output_type": "stream",
     "text": [
      "C:\\Users\\user\\anaconda3\\lib\\site-packages\\sklearn\\base.py:450: UserWarning: X does not have valid feature names, but SVC was fitted with feature names\n",
      "  warnings.warn(\n"
     ]
    }
   ],
   "source": [
    "# サポートベクターマシンをインポート\n",
    "from sklearn import svm\n",
    "\n",
    "# モデルの作成\n",
    "model = svm.SVC(C=1.0, kernel='linear', degree=3, gamma='scale', \n",
    "    coef0=0.0, shrinking=True, probability=False, tol=1.0, \n",
    "    cache_size=200, class_weight=None, verbose=False, max_iter=- 1, \n",
    "    decision_function_shape='ovr', break_ties=False, random_state=None)\n",
    "\n",
    "# モデルの学習\n",
    "model.fit(x, t)\n",
    "\n",
    "# テストデータによる予測\n",
    "test_data = [[27, 172, 173]]\n",
    "test_label = model.predict(test_data)\n",
    "\n",
    "# 予測結果の表示\n",
    "print(test_label)"
   ]
  },
  {
   "cell_type": "code",
   "execution_count": 9,
   "id": "a4b29934",
   "metadata": {},
   "outputs": [],
   "source": [
    "# モデルの保存\n",
    "import pickle\n",
    "with open('boxing.pkl', 'wb') as f:\n",
    "    pickle.dump(model, f)"
   ]
  },
  {
   "cell_type": "code",
   "execution_count": 10,
   "id": "bdce0429",
   "metadata": {},
   "outputs": [
    {
     "name": "stdout",
     "output_type": "stream",
     "text": [
      "['バンタム級']\n"
     ]
    },
    {
     "name": "stderr",
     "output_type": "stream",
     "text": [
      "C:\\Users\\user\\anaconda3\\lib\\site-packages\\sklearn\\base.py:450: UserWarning: X does not have valid feature names, but SVC was fitted with feature names\n",
      "  warnings.warn(\n"
     ]
    }
   ],
   "source": [
    "# 保存したモデルの動作確認\n",
    "\n",
    "import pickle\n",
    "\n",
    "# 保存したモデルをロードする\n",
    "with open('boxing.pkl', 'rb') as f:\n",
    "    loaded_model = pickle.load(f)\n",
    "\n",
    "# ユーザ入力データによる予測\n",
    "input_data = [[29, 166, 172]]\n",
    "box_label = loaded_model.predict(input_data)\n",
    "\n",
    "# 予測結果の表示\n",
    "print(box_label)"
   ]
  }
 ],
 "metadata": {
  "kernelspec": {
   "display_name": "Python 3 (ipykernel)",
   "language": "python",
   "name": "python3"
  },
  "language_info": {
   "codemirror_mode": {
    "name": "ipython",
    "version": 3
   },
   "file_extension": ".py",
   "mimetype": "text/x-python",
   "name": "python",
   "nbconvert_exporter": "python",
   "pygments_lexer": "ipython3",
   "version": "3.9.12"
  }
 },
 "nbformat": 4,
 "nbformat_minor": 5
}
